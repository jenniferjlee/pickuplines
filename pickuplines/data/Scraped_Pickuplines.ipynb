{
 "cells": [
  {
   "cell_type": "code",
   "execution_count": 1,
   "metadata": {},
   "outputs": [],
   "source": [
    "from urllib.request import Request, urlopen\n",
    "from bs4 import BeautifulSoup\n",
    "from requests import get\n",
    "import time\n",
    "import pandas as pd\n",
    "from random import randint\n",
    "import datetime"
   ]
  },
  {
   "cell_type": "code",
   "execution_count": 68,
   "metadata": {},
   "outputs": [],
   "source": [
    "df = pd.DataFrame(columns = ['category', 'line'])"
   ]
  },
  {
   "cell_type": "code",
   "execution_count": 63,
   "metadata": {},
   "outputs": [],
   "source": [
    "def scrape(category):\n",
    "    global df \n",
    "    mainreq = Request(\"https://www.pickuplinesgalore.com/\"+category+\".html\", headers={'User-Agent': 'Mozilla/5.0'})\n",
    "    mainpage = urlopen(mainreq).read()\n",
    "    soup = BeautifulSoup(mainpage,'html.parser')\n",
    "    paragraphs = [p.get_text().strip() for p in soup.findAll(\"p\", {\"class\": \"action-paragraph paragraph\"})]\n",
    "    for paragraph in paragraphs:\n",
    "        lines = paragraph.splitlines()\n",
    "        mainlines = [line.strip() for line in lines if \">>\" not in line and \"<<\" not in line and line!=\"\"]\n",
    "        mainlines = [line.strip('\\\"') for line in mainlines]\n",
    "    print(mainlines)\n",
    "    # split by \\n\\n\n",
    "    # remove lines that contain <<\n",
    "    for line in mainlines:\n",
    "        df = df.append({\n",
    "                'category': category,\n",
    "                'line': line\n",
    "            }, ignore_index=True)"
   ]
  },
  {
   "cell_type": "code",
   "execution_count": 64,
   "metadata": {
    "scrolled": true
   },
   "outputs": [
    {
     "name": "stdout",
     "output_type": "stream",
     "text": [
      "['Are you the SAT? Cause I’d do you for 3 hours and 45 minutes, with a ten minute break in the middle for snacks.', 'What’s a smart, attractive, young man like myself doing without your number?', 'Want to come over to my place and watch porn on my flat screen mirror?', \"Do you mix concrete for a living? Because you're making me hard.\", 'Judging by your hair, you seem like a girl who likes to do anal.', 'Do you like Nintendo? Cause Wii would look good together.', 'Sit on my face and I’ll eat my way to your heart.', '', 'You’re the type of girl I’d let sit on my face for a long period of time.', 'What are the chances I see you naked tonight?', 'If I were a watermelon, would you spit or swallow my seeds?', 'On a scale of 1 to America, how free are you tonight?', 'You’re coming over tonight to watch Game of Thrones and make out.', 'YOU. NUMBER. NOW.', 'Before I hit on you, do you have a problem with large genitalia?', \"Did you grow up on a chicken farm? 'Cause you sure know how to raise a cock. \", 'I could’ve called heaven and asked for an angel, but I was hoping you’re a slut instead.', \"You wanna know what's beautiful? Read the first word again.\", 'Be unique and different, say yes.', \"I'm no Fred Flintstone, but I can make your Bedrock!\", 'You’re not a vegan, are you? Because I’d love to meat you.', 'No wonder the sky is grey today, all the blue is in your eyes.', 'Did you have lucky charms for breakfast? Because you look magically delicious!', 'If a thousand painters worked for a thousand years, they could not create a work of art as beautiful as you.', \"Are you African? Because you're a frican babe.\", 'Did you sit in a pile of sugar? Cause you have a pretty sweet ass.', \"Do you like Pizza Hut? Cause I'll stuff your crust.\", \"Are you from China? Cause I'm China get in your pants.\", \"Are you Jewish? Cause the way you're looking at me, I'm beginning to think Jewish this dick was in your mouth.\", \"That's a nice shirt. Can I try it on after we have sex?\", 'I would absolutely love to swap bodily fluids with you.', 'Is your name Daisy? Because I have a sudden urge to plant you right here!', 'Do you like Mexican food? Cause I want to wrap you in my arms and make you my BAE-RITTO.', 'Are you made out of grapes? Because you are fine as wine!', 'If you were a flower you’d be a damnnn-delion', 'Blue eyes, red lips, pale face. So pretty. You look like the flag of France.', 'My mattress is a little hard. Would you like to help me break it in?', 'Is there a rainbow today? I just found the treasure I’ve been searching for!', \"I'm a freelance gynecologist. How long has it been since your last checkup?\", 'If you look that good in clothes, you must look even better out of them.', 'If I were to ask you out on a date, would your answer be the same as the answer to this question?', \"If beauty were time, you'd be eternity\", 'Is your name Earl Grey? Because you look like a hot-tea!', \"Since distance equals velocity times time, let's let velocity and time approach infinity, because I want to go all the way with you.\"]\n"
     ]
    }
   ],
   "source": [
    "scrape(\"tinder\")"
   ]
  },
  {
   "cell_type": "code",
   "execution_count": 70,
   "metadata": {},
   "outputs": [
    {
     "name": "stdout",
     "output_type": "stream",
     "text": [
      "['Baby if you were a burger at McDonalds you would be a McGorgeous.', 'Let me be a chicken nugget and take a dip in your sauce.', \"Now what's on the menu? Me-n-u\", 'Omelette you in on a secret. You and I would brie perfectly gouda.', 'Can I double stuff your Oreo?', 'I do not fancy wines, I prefer moans.', 'I like my women like I like my doughnuts - HOT and HOLY!', 'Do you like Alphabet soup? Cause you gonna be choking on the D', 'I like my women like I like my ice cream, fat free and dripping down my fingers.', 'Do you like Krispy Kreme? Cause I wanna glaze your donut.', \"Do you like hot dogs girl? Cause I'd like to put my weiner between those buns\", 'I want you more then a Hagen-Daas on a hot summer day.', 'You must work at subway, because you’re giving me a foot long.']\n",
      "['Can I hit you in the face... with my lips?', 'You may fall from the sky, you may fall from a tree, but the best way to fall... is in love with me.', 'When I first saw you, I knew we could win the Stanley Cup in tonsil hockey.', 'My name isn\\'t Elmo, but you can tickle me any time you want to.Can you take me to the doctor? Because I just broke my leg falling for you.You must be a ninja, because you snuck into my heartI need a dollar, but I only have 90 cents... do you want to be my dime?[Look at her shirt label.] When they say, \"What are you doing?\" You respond: \"Yep! Made in heaven!\"Be unique and different, say yes.Your eyes are blue, like the ocean. And baby, I\\'m lost at sea.You know how they say skin is the largest organ on the human body? Not in my case.', 'My lips are like skittles. Wanna taste the rainbow?', 'They say dating is a numbers game... so can I get your number?', \"You be the Dairy Queen and I'll be your Burger King: You treat me right, and I'll do it your way.\", '(Ask a person for the time) 9:15? So today is May 1, 2008, at 9:15 PM, thanks I just wanted to be able to remember the exact moment that I met the woman of my dreams.', 'Pinch me. [Why?] You\\'re so fine I must be dreaming.If I had to choose between breathing or loving you, I would say \"I love you\" with my last breath!Ouch! My tooth hurts! [Why?] Because you are soooo sweet!I\\'m not trying to impress you or anything, but... I\\'m Batman!You must be from Pearl Harbor, because baby, you\\'re the bomb.You must be Jamaican, because Jamaican me crazy.Do you know karate? Because your body is really kickin\\'.You must be a high test score, because I want to take you home and show you to my mother.I’m learning about important dates in history class. Wanna be one of them?I hear they banned you from school lunches for being so sweet.I need some answers for my math homework. Quick. What’s your number?Are you a Snickers bar? Cause you satisfy me.Is your last name Campbell? Cause you\\'re \"mmmm... good!\"You\\'re like a dictionary, you add meaning to my life!Baby, you are so fine I could put you on a plate and sop you up with a biscuit.', 'Is there a rainbow today? Because I just found the treasure I\\'ve been searching for!You remind me of a magnet, because you sure are attracting me over here!Hey, is it just me, or are we destined to be married?Hello. Are you taking any applications for a boy/girlfriend?I have an \"owie\" on my lip. Will you kiss it and make it better?', \"Let's make like a fabric softener and 'Snuggle\", 'Hi, my name is Doug. That\\'s \"god\" spelled backwards with a little bit of you wrapped up in it.If I could reach out and hold a star for everytime you\\'ve made me smile, I\\'d hold the sky in the palm of my hand.Well, here I am. What were your other two wishes?(Put your fingers on the other\\'s nipples) Hey, here\\'s (name), comin\\' at you with the weather. Can I be your warm front?How much does a polar bear weigh? [How much?] Enough to break the ice... Hi, I\\'m (insert name here).', 'Well, I AM telepathic, and I can tell that you love me. Right? [NO!] Darn, I always get \"love\" and \"lust\" mixed up.', 'Should I smile because we are friends, or cry because I know that is what we will ever be?When I look into your eyes, it is like a gateway into the world of which I want to be a part.', 'Hey baby. You got a jersey? [A jersey?...Why?] Because I need your name and number.', 'You’re so cute it’s distracting!', \"Hello, I'm doing a survey of what people think are the cheesiest pickup lines. So, do you pick 'Do you come here often?', 'What's your sign?', or 'Hello, I'm doing a survey of what people think are the cheesiest pickup lines.'?(hold out hand) Would you hold this for me while I go for a walk?This time next year let’s be laughing together.Is your last name Whitman, because I want to sample you.On a scale of 1 to 10, you're a 9. I'm the 1 you need.Hey baby, I must be a light switch, cuz every time I see you, you turn me on!Are you a beaver? Cause daaaaam!I hope your day has been as beautiful as you are.\", \"Is your father Little Caesar? Cause you look Hot 'n Ready.\", \"If you were a chicken, you'd be impeccable.\", \"I could use some spare change and you're a dime.I'm no mathematician, but I'm pretty good with numbers. Tell you what, Give me yours and watch what I can do with it.Didn't I see you on the cover of Vogue?Excuse me, I don't want you to think I'm ridiculous or anything, but you are the most beautiful woman I have ever seen. I just felt like I had to tell you.Have you always been this cute, or did you have to work at it?Hey, don't I know you? Yeah, you're the girl with the beautiful smile.\", 'Is your father a mechanic? Because you’ve got a finely tuned body!', \"I have had a really bad day and it always makes me feel better to see a pretty girl smile. So, would you smile for me?I hope you know CPR, because you take my breath away!I just had to come talk with you. Sweetness is my weakness.I think I can die happy now, cause I've just seen a piece of heaven.Apart from being sexy, what do you do for a living?I sneezed because God blessed me with you.Is it hot in here or is it just you?Nice to meet you, I'm (your name) and you are...gorgeous!I may not be a genie, but I can make all your wishes come true!\", 'Was your dad king for a day? He must have been to make a princess like you.', \"Were you arrested earlier? It's gotta be illegal to look that good.\", \"Were your parents Greek Gods, 'cause it takes two gods to make a goddess.What does it feel like to be the most beautiful girl in this room?What's that on your face? Oh, must just be beauty. Here, let me get it off. Hey, it's not coming off!\", \"I blame you for global warming... your hotness is too much for the planet to handle!You are the reason men fall in love.You know the more I drink, the prettier you get!You know, I would die happy if I saw you naked just once!You better call Life Alert, 'cause I've fallen for you and I can't get up.You're single. I'm single. Coincidence? I think not.You know, you might be asked to leave soon. You're making the other women look really bad.You look like my third wife. [how many time have you been married?] Twice.You make me melt like hot fudge on a sundae.You should be someone's wife.Were you in Boy Scouts? Because you sure have tied my heart in a knot.Are you as beautiful on the inside as you are on the outside?I want to be your tear drop, so I could be born in your eyes, live on your cheeks, and die on your lips.\", 'I know where they give out free drinks... it’s a place called “My House”!', \"I can't think of anyone else I’d rather survive a Zombie Apocalypse with.\", \"Babe! you look so fine I could drink your bath water!If I had a rose for every time I thought of you, I would be walking through my garden forever.Girl, if I were a fly, I'd be all over you, because you're the shit!Hey, how did you do that? (What?) Look so good?Damn girl, you have more curves than a race track.If you stood in front of a mirror and help up 11 roses, you would see 12 of the most beautiful things in the world.You are so beautiful that I would marry your brother just to get into your family.You look like a cool glass of refreshing water, and I am the thirstiest man in the world.Are you a tamale? 'Cause you're hot.You are so beautiful that you give the sun a reason to shine.Do you bleach your teeth? 'Cause your smile lights up the entire room like a candle in the dark. Let's go prove it.Your ass is so nice that it is a shame that you have to sit on it.Someone should call the police, because you just stole my heart!Stop, drop, and roll, baby. You are on fire.Baby, you're so hot, you make the equator look like the north pole.Come live in my heart, and pay no rent.You're hotter than Papa Bear's porridge.I hope there's a fire truck nearby, cause you're smokin'!If it weren't for that DAMNED sun, you'd be the hottest thing ever created.\", 'How is your fever? [What fever?] Oh... you just look hot to me.', 'Tonight this Han doesn’t want to fly Solo.', 'I just got dumped, and I think that you could make me feel better.', \"(Walk up to someone and bite them anywhere) Sorry, taking a bite out of crime. [WHAT?] Well it has to be illegal to look that good!You are a 9 - you'd be a perfect 10 if you were with me.\", \"Excuse me, I'd like to have kids someday, and I wanted to know how your parents created such a beautiful creature.\", 'You’re my favorite weakness.', 'You\\'re so hot, I bet you could light a candle at 10 paces.I can\\'t believe I\\'ve been hear the entire evening with all these beautiful people and the moment I find \\'The One\\', all I have time to say is \"good bye\".', \"Hey baby, you've got something on your butt - my eyes!\", \"This isn't a beer belly, It's a fuel tank for a love machine.\", 'Baby you make palms sweaty, knees weak, arms spaghetti.', 'If I was an octopus, all my 3 hearts would beat for you\\ufeff.', 'Guess what I’m wearing? The smile you gave me!', \"I don't know you, but I think I love you already.\", \"Here's the key to my house, my car... and my heart.\", \"If we shared a garden, I'd put my tulips and your tulips together. (tulips = two lips)Is your name Summer? 'Cause you are as hot as hell.If I had to choose between one night with you or winning the lottery...I would chose winning the lottery...but it would be close...real close...Do you have any sunscreen? 'Cause you are burning me up!\", 'See these keys? I wish I had the one to your heart.', \"You're hotter than donut grease.\", \"Your eyes are as blue as window cleaner.Was that an earthquake or did you just rock my world?If you were a burger at McDonalds, you'd be McGorgeous.Are your parents retarded, 'cause you sure are special.If you could put a price tag on beauty you'd be worth more than Fort Knox.I must be dancing with the devil, because you're hot as hell.Are you the moon? Because even when it's dark, you still seem to shine.\", 'Roses are red, my face is too, that only happens when I’m around you.', 'Roses are red, I have a crush, whenever I’m around you, all I do is blush.', 'I never need to see the sun again because your eyes light up my world.', 'How much does it cost to date you? Cause damn, you look expensive!', \"If you were a steak you would be well done.It's dark in here. Wait! It's because all of the light is shining on you.Your hand looks heavy. Let me hold it for you.Do you have any raisins? [No] How about a date?\", 'Are you a kidnapper? Because you just abducted my heart.', 'Is your name Katrina? [No, why?] \\'Cuz baby, you rock me like a hurricane!Can you pull this heart-shaped arrow out of my butt? A damn little kid with wings shot me.On The PhoneShe/He says: \"Hold on\"You Say: \"Sorry, I can\\'t hold on... I\\'ve already fallen for you.\"Is your body from McDonald\\'s? Cause I\\'m lovin\\' it!Are you a microwave oven? Cause you melt my heart.Did you get your license suspended for driving so many guys crazy?Are you a girl scout, cause you tie my heart in knots.You\\'re so hot, I could bake cookies on you.You look beautiful today, just like every other day.Let\\'s play Winnie the Pooh and get my nose stuck in your honey jar.', \"When I'm older, I'll look back at all of my crowning memories, and I'll think of the day my children were born, the day I got married, and the day that I met you.If beauty were time, you'd be eternity.\", \"Is your car battery dead? Because I'd like to jump you.\", \"I'm lost. Can you tell me which road leads to your heart?\", 'Where do you hide your wings?', 'Is your name Mickey? Because you’re so FINE!', 'Are you made of grapes? Cause you’re fine as wine.', 'For a moment I thought I had died and gone to heaven. Now I see that I am very much alive, and heaven has been brought to me.', \"Forget about Spiderman, Superman, and Batman. I'll be your man.\", \"There isn't a word in the dictionary for how good you look.\", 'Girl, you’re like Mastercard - absolutely priceless.', \"Fascinating. I've been looking at your eyes all night long, 'cause I've never seen such dark eyes with so much light in them.\", \"You're the only girl I love now... but in ten years, I'll love another girl. She'll call you 'Mommy.'\", \"My doctor says I'm lacking Vitamin U.\", 'I tried my best to not feel anything for you. Guess what? I failed.', \"Hey, don't frown. You never know who could be falling in love with your smile.\", 'Because of you, I laugh a little harder, cry a little less, and smile a lot more.', 'Excuse me, but does this smell like chloroform to you?', \"Most people like to watch the Olympics, because they only happen once every 4 years, but I'd rather talk to you cause the chance of meeting someone so special only happens once in a lifetime.\", 'Can I have directions? [To where?] To your heart.', \"I'm sorry, I don't think we've met. I wouldn't forget a pretty face like that.\", \"Your body is 65% water and I'm thirsty.\", 'There are people who say Disneyland is the happiest place on earth. Apparently, none of them have ever been in your arms.', \"Does your left eye hurt? Because you've been looking right all day.\", \"My buddies bet me that I wouldn't be able to start a conversation with the most beautiful girl in the bar. Wanna buy some drinks with their money?\", 'Do you have a name or can I just call you mine?', 'With my IQ and your body, we could make a race of superchildren and conquer the earth!', 'I will stop loving you when an apple grows from a mango tree on the 30th of February.', \"If I were a stop light, I'd turn red everytime you passed by, just so I could stare at you a bit longer.\", \"Let's make like the Olympic rings and hook up later.\", \"Your body is a wonderland, and I'd like to be Alice.\", \"It's a good thing I wore gloves today. Otherwise you'd be too hot to handle.Hello. Cupid called. He says to tell you that he needs my heart back.\"]\n"
     ]
    },
    {
     "name": "stdout",
     "output_type": "stream",
     "text": [
      "['Good boys deserve more than just fudge.', 'Girl, you give me a tromboner.', 'Save a drum, bang a drummer.', \"This reed isn't the only thing I can get wet.\", \"That's a nice set of mallets you have.\", \"Damn girl, you're lookin' sharp!\", \"I'd love to strum your g-string\", \"I just lost my job and may be Baroque, but that doesn't mean I can't show you a good time.\", 'Perhaps you and your friend would like to play a trio with me?', \"The pads on my MPC2000XL aren't the only thing I'll be banging tonight.\", 'My embouchure is good for more than just playing the trumpet, if you know what I mean.', \"I bet that flute isn't the only thing you know how to blow.\", \"Slow down girl, you're giving me a woodwind.\", 'You wanna grease my slide?', \"You must be a fourth or a fifth, because you're just perfect!\", \"I bet we'd get into some serious Treble together.\", \"Call me AC/DC, because I'm gonna rock you all night long!\", 'The Proclaimers would walk 500 miles to \"come back home to you,\" but I\\'ll do you one better. I\\'ll sit through an entire Nickelback concert.', \"Let's play a love game. I'll be Alejandro, you be Lady Gaga and I'll let you take a ride on my disco stick.\", 'Composers always score.']\n",
      "['Can I do your Systems Analysis?', 'Are you a piece of carbon? Because I would love to date you.', \"Let's take each other to the limit to see if we converge.\", \"I'd like to demonstrate with you simple harmonic motion.\", \"The volume of a generalized cylinder has been known for thousands of years, but you won't know the volume of mine until tonight.\", \"Why don't we measure the coefficient of static friction between me and you?\", \"Isn't your e-mail address beautifulgirl@mydreams.com?\", 'Can I see your blueprints? I want to lay some pipe in you and need to know that you’re structurally sound enough to do so.', 'That dress would look even better accelerating towards my bedroom floor at 9.8 m/s^2', 'I like the area bounded by your two curves.', 'Girl when I see that body of yours it creates a stress on my heart and a strain on my \"beam\".', 'Has anyone ever called you FAT? They were dead-wrong! You are NTFS, obviously.', 'Hey Baby, wanna come back to my lab and work with my microprocessor?', 'My love for you is a monotonically increasing unbounded function.', 'Life without you is like dereferencing a NULL pointer.']\n",
      "['Let’s face it. I’m hot, you’re hot and we both know you got a crush on me.', 'Be unique and different, just say yes.', 'Girl, I hope you have a license, cause you’re driving me crazy', \"I'm gay but you might just turn me straight.\", 'You must be from Tennessee! Because you’re the only TEN I see!', 'Is that a tic-tac in your blouse or are you just glad to see me?', 'Hey, somebody farted. Lets get out of here!', \"You've got the whitest teeth I have ever seen!\", \"Are you Swedish? Because you're the sweetish girl I've met!\", \"I'm not drunk, I'm just intoxicated by you.\", 'Are those space pants? Because your butt is out of this world!', \"If beauty were measured in seconds, you'd be an hour!\", 'Hey honey, I got money!', 'My name is Peter Pan, because I can take you to Never Never Land.', 'What does it feel like to be the most beautiful girl in this room?']\n",
      "[\"If you ever need to get rid of a trojan, don't hesitate to call me!\", \"You're making me feel like I have something in common with these pop-up ads.\", \"What's the difference between a crush and a Facebook account? [what?] I'm not rapidly developing a Facebook account on you.\", 'I need to hop over to Facebook for a second to change my status to smitten.', 'What do you say we play a game of \"Words With More Than Friends?', 'Roses are #ff0000, violets are #0000ff, all my base are belong to you.', 'Need me to unzip your files?', \"Are your pants a compressed file? Because I'd love to unzip them!\", \"I googled your name earlier... I clicked on 'I'm Feeling Lucky.'\", 'How about we go home and you handle my exception?', \"If we were connected on Linkedin, I'd endorse you all night long.\", 'I wish you were Broadband, so I could get high-speed access.', 'Girl, you are hotter than the bottom of my laptop.', \"I'd ask if you come here often, but I already stalk you on FourSquare.\", 'Can I do a penetration test on your back door?', 'Can you put a Trojan on my Hard Drive?', 'Hey girl, can you sit on my laptop?', 'Can I stick my flash drive in your USB port?', 'Computer techs have skilled fingers if you know what I mean.']\n",
      "['Please see our huge collection of Cheesy Pick Up Lines!', \"I'm sorry I didn't get you chocolates for Valentine's Day, but if you want something sweet I'm right here.\", 'Once you go cupid, the rest are just stupid!', \"Baby you’re so sweet you’d put Hershey's out of business!\", \"I bought you 12 roses for Valentine's Day - 11 real and 1 fake. I will love you until all of them die and wilt away.\", 'Do you believe in love at first sight, or should I tell Cupid to shoot you with that arrow one more time?', 'Hello, Cupid called... he says to tell you that he needs my heart back.', \"You break my heart into 15 unique, chewable pieces... just like a Whitman's Sampler.\", 'Going on a date with me is WAY better than eating a bag of those weird, chalky heart candies with sayings on them.', \"The only sweet thing I want for Valentine's Day is a cutie pie like you!\", \"Can I have a kiss on the cheek? I want to be able to say a gorgeous girl kissed me on Valentine's Day.\", \"Be mine because you're fine.\", \"Do you like cats? Because I'd like you to take meowt for Valentine's Day.\", 'I\\'ll be your \"alentine\" for now, you\\'ll need to give me the \"V\" after dinner.', 'I was going to get you a box of chocolates, but you already have a sweeter box.', \"When I look at you, I see more stars than the cast list in that Valentine's Day movie.\"]\n",
      "[\"If you were a camel, I'd hump you!\", 'Wanna go on a picnic? Alpaca lunch.', 'Are you a unicorn? Because you’re my fantasy', \"Are you a termite? Cause you're about to have a mouth full of wood.\", \"Do you have pet insurance? Because I'm going destroy your pussy.\", \"I'll have the chicken breast, hold the chicken.\", \"Baby, you're like a championship bass. I don't know whether to mount you or eat you!\", \"It's hunting season and fox like you shouldn’t be out in the open!\", 'If you were a farmer I would let you choke my chicken', 'Have you ever milked a cow before? cause your gonna need a bucket for this too.', \"Life's a jungle - let's go to your place and bang like animals!\", 'If I were a dog would you help me bury my bone?']\n",
      "['Are you the SAT? Cause I’d do you for 3 hours and 45 minutes, with a ten minute break in the middle for snacks.', 'What’s a smart, attractive, young man like myself doing without your number?', 'Want to come over to my place and watch porn on my flat screen mirror?', \"Do you mix concrete for a living? Because you're making me hard.\", 'Judging by your hair, you seem like a girl who likes to do anal.', 'Do you like Nintendo? Cause Wii would look good together.', 'Sit on my face and I’ll eat my way to your heart.', '', 'You’re the type of girl I’d let sit on my face for a long period of time.', 'What are the chances I see you naked tonight?', 'If I were a watermelon, would you spit or swallow my seeds?', 'On a scale of 1 to America, how free are you tonight?', 'You’re coming over tonight to watch Game of Thrones and make out.', 'YOU. NUMBER. NOW.', 'Before I hit on you, do you have a problem with large genitalia?', \"Did you grow up on a chicken farm? 'Cause you sure know how to raise a cock. \", 'I could’ve called heaven and asked for an angel, but I was hoping you’re a slut instead.', \"You wanna know what's beautiful? Read the first word again.\", 'Be unique and different, say yes.', \"I'm no Fred Flintstone, but I can make your Bedrock!\", 'You’re not a vegan, are you? Because I’d love to meat you.', 'No wonder the sky is grey today, all the blue is in your eyes.', 'Did you have lucky charms for breakfast? Because you look magically delicious!', 'If a thousand painters worked for a thousand years, they could not create a work of art as beautiful as you.', \"Are you African? Because you're a frican babe.\", 'Did you sit in a pile of sugar? Cause you have a pretty sweet ass.', \"Do you like Pizza Hut? Cause I'll stuff your crust.\", \"Are you from China? Cause I'm China get in your pants.\", \"Are you Jewish? Cause the way you're looking at me, I'm beginning to think Jewish this dick was in your mouth.\", \"That's a nice shirt. Can I try it on after we have sex?\", 'I would absolutely love to swap bodily fluids with you.', 'Is your name Daisy? Because I have a sudden urge to plant you right here!', 'Do you like Mexican food? Cause I want to wrap you in my arms and make you my BAE-RITTO.', 'Are you made out of grapes? Because you are fine as wine!', 'If you were a flower you’d be a damnnn-delion', 'Blue eyes, red lips, pale face. So pretty. You look like the flag of France.', 'My mattress is a little hard. Would you like to help me break it in?', 'Is there a rainbow today? I just found the treasure I’ve been searching for!', \"I'm a freelance gynecologist. How long has it been since your last checkup?\", 'If you look that good in clothes, you must look even better out of them.', 'If I were to ask you out on a date, would your answer be the same as the answer to this question?', \"If beauty were time, you'd be eternity\", 'Is your name Earl Grey? Because you look like a hot-tea!', \"Since distance equals velocity times time, let's let velocity and time approach infinity, because I want to go all the way with you.\"]\n"
     ]
    },
    {
     "name": "stdout",
     "output_type": "stream",
     "text": [
      "['Hey Aladdin, is that a lamp in your pocket or are you just happy to see me?', 'Hey Jasmine, Does the magic carpet match the drapes?', \"Hi, I'm Andy. Wanna play with my Woody?\", \"I can make any fairy moan... All I need to do is Tink'er'bell.\", \"Hey Cinderella let's see if this fits!\", 'Can you feel the love tonight?', \"I'll make you want to spend more time in bed with me than Sleeping, Beauty.\", 'Honestly, I just wanna get The Sword in the Stone!', 'Hi my name is Mickey, and there is nothing Minnie about me!', 'I’ll bippity bop you, girl!', 'Minnie, want to see my polka dot bed sheets?', 'You can call me Nemo, because I\\'m gonna \"touch the butt', \"Forget Aladdin, I'm thinking bout Jasmine's carpet.\", \"Things are much better down where it's wetter.\"]\n"
     ]
    }
   ],
   "source": [
    "for category in categories:\n",
    "    scrape(category)"
   ]
  },
  {
   "cell_type": "code",
   "execution_count": 71,
   "metadata": {},
   "outputs": [
    {
     "data": {
      "text/html": [
       "<div>\n",
       "<style scoped>\n",
       "    .dataframe tbody tr th:only-of-type {\n",
       "        vertical-align: middle;\n",
       "    }\n",
       "\n",
       "    .dataframe tbody tr th {\n",
       "        vertical-align: top;\n",
       "    }\n",
       "\n",
       "    .dataframe thead th {\n",
       "        text-align: right;\n",
       "    }\n",
       "</style>\n",
       "<table border=\"1\" class=\"dataframe\">\n",
       "  <thead>\n",
       "    <tr style=\"text-align: right;\">\n",
       "      <th></th>\n",
       "      <th>category</th>\n",
       "      <th>line</th>\n",
       "    </tr>\n",
       "  </thead>\n",
       "  <tbody>\n",
       "    <tr>\n",
       "      <th>0</th>\n",
       "      <td>food</td>\n",
       "      <td>Baby if you were a burger at McDonalds you wou...</td>\n",
       "    </tr>\n",
       "    <tr>\n",
       "      <th>1</th>\n",
       "      <td>food</td>\n",
       "      <td>Let me be a chicken nugget and take a dip in y...</td>\n",
       "    </tr>\n",
       "    <tr>\n",
       "      <th>2</th>\n",
       "      <td>food</td>\n",
       "      <td>Now what's on the menu? Me-n-u</td>\n",
       "    </tr>\n",
       "    <tr>\n",
       "      <th>3</th>\n",
       "      <td>food</td>\n",
       "      <td>Omelette you in on a secret. You and I would b...</td>\n",
       "    </tr>\n",
       "    <tr>\n",
       "      <th>4</th>\n",
       "      <td>food</td>\n",
       "      <td>Can I double stuff your Oreo?</td>\n",
       "    </tr>\n",
       "    <tr>\n",
       "      <th>...</th>\n",
       "      <td>...</td>\n",
       "      <td>...</td>\n",
       "    </tr>\n",
       "    <tr>\n",
       "      <th>248</th>\n",
       "      <td>disney</td>\n",
       "      <td>I’ll bippity bop you, girl!</td>\n",
       "    </tr>\n",
       "    <tr>\n",
       "      <th>249</th>\n",
       "      <td>disney</td>\n",
       "      <td>Minnie, want to see my polka dot bed sheets?</td>\n",
       "    </tr>\n",
       "    <tr>\n",
       "      <th>250</th>\n",
       "      <td>disney</td>\n",
       "      <td>You can call me Nemo, because I'm gonna \"touch...</td>\n",
       "    </tr>\n",
       "    <tr>\n",
       "      <th>251</th>\n",
       "      <td>disney</td>\n",
       "      <td>Forget Aladdin, I'm thinking bout Jasmine's ca...</td>\n",
       "    </tr>\n",
       "    <tr>\n",
       "      <th>252</th>\n",
       "      <td>disney</td>\n",
       "      <td>Things are much better down where it's wetter.</td>\n",
       "    </tr>\n",
       "  </tbody>\n",
       "</table>\n",
       "<p>253 rows × 2 columns</p>\n",
       "</div>"
      ],
      "text/plain": [
       "    category                                               line\n",
       "0       food  Baby if you were a burger at McDonalds you wou...\n",
       "1       food  Let me be a chicken nugget and take a dip in y...\n",
       "2       food                     Now what's on the menu? Me-n-u\n",
       "3       food  Omelette you in on a secret. You and I would b...\n",
       "4       food                      Can I double stuff your Oreo?\n",
       "..       ...                                                ...\n",
       "248   disney                        I’ll bippity bop you, girl!\n",
       "249   disney       Minnie, want to see my polka dot bed sheets?\n",
       "250   disney  You can call me Nemo, because I'm gonna \"touch...\n",
       "251   disney  Forget Aladdin, I'm thinking bout Jasmine's ca...\n",
       "252   disney     Things are much better down where it's wetter.\n",
       "\n",
       "[253 rows x 2 columns]"
      ]
     },
     "execution_count": 71,
     "metadata": {},
     "output_type": "execute_result"
    }
   ],
   "source": [
    "df"
   ]
  },
  {
   "cell_type": "code",
   "execution_count": 58,
   "metadata": {},
   "outputs": [
    {
     "data": {
      "text/plain": [
       "array(['animal', 'food', 'cheesy', 'musician', 'engineering', 'bad',\n",
       "       'computer', 'valentinesday', 'tinder'], dtype=object)"
      ]
     },
     "execution_count": 58,
     "metadata": {},
     "output_type": "execute_result"
    }
   ],
   "source": [
    "df.category.unique()"
   ]
  },
  {
   "cell_type": "code",
   "execution_count": 67,
   "metadata": {},
   "outputs": [],
   "source": [
    "categories = [\"food\", \"cheesy\", \"musician\", \"engineering\", \"bad\", \"computer\", \"valentinesday\", \"animal\", \"tinder\",\"disney\"]"
   ]
  },
  {
   "cell_type": "code",
   "execution_count": 72,
   "metadata": {},
   "outputs": [],
   "source": [
    "df.to_json('pickuplines.json', orient='records')"
   ]
  },
  {
   "cell_type": "code",
   "execution_count": 73,
   "metadata": {},
   "outputs": [],
   "source": [
    "with open('pickuplines.json', 'w', encoding='utf-8') as file:\n",
    "    df.to_json(file, force_ascii=False, orient='records')"
   ]
  },
  {
   "cell_type": "code",
   "execution_count": null,
   "metadata": {},
   "outputs": [],
   "source": [
    "df = pd.read_json ('pickuplines.json', convert_dates=False)"
   ]
  }
 ],
 "metadata": {
  "kernelspec": {
   "display_name": "Python 3",
   "language": "python",
   "name": "python3"
  },
  "language_info": {
   "codemirror_mode": {
    "name": "ipython",
    "version": 3
   },
   "file_extension": ".py",
   "mimetype": "text/x-python",
   "name": "python",
   "nbconvert_exporter": "python",
   "pygments_lexer": "ipython3",
   "version": "3.7.6"
  }
 },
 "nbformat": 4,
 "nbformat_minor": 4
}
